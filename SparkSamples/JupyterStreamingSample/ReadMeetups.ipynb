{
 "cells": [
  {
   "cell_type": "code",
   "execution_count": 1,
   "metadata": {
    "collapsed": false
   },
   "outputs": [
    {
     "name": "stdout",
     "output_type": "stream",
     "text": [
      "Using cached version of spark-cloudant-2.0.0-s_2.11.jar\n"
     ]
    }
   ],
   "source": [
    "%AddJar http://dl.bintray.com/spark-packages/maven/cloudant-labs/spark-cloudant/2.0.0-s_2.11/spark-cloudant-2.0.0-s_2.11.jar"
   ]
  },
  {
   "cell_type": "code",
   "execution_count": 2,
   "metadata": {
    "collapsed": false
   },
   "outputs": [
    {
     "name": "stdout",
     "output_type": "stream",
     "text": [
      "(cloudant.password,004f4adfb5a46442c3a5e37f6d62eec477c9f3d96781d45f612bfba6afd4b013)\n",
      "(spark.eventLog.enabled,true)\n",
      "(spark.deploy.resourceScheduler.factory,org.apache.spark.deploy.master.EGOResourceSchedulerFactory)\n",
      "(cloudant.host,83a4d5b3-b0cd-4206-a1dd-b8ede559ef88-bluemix.cloudant.com)\n",
      "(spark.r.command,/usr/local/src/bluemix_jupyter_bundle.v31/R/bin/Rscript)\n",
      "(spark.jars,file:/usr/local/src/dataconnector-dw/spark-1.6.0/Server/connectivity/thirdparty/JSON4J-1.1.0.0.jar,file:/usr/local/src/dataconnector-dw/spark-1.6.0/Server/connectivity/thirdparty/commons-io-2.4.jar,file:/gpfs/global_fs01/sym_shared/YPProdSpark/user/sb8e-31a08100070616-ac6107fb81b2/data/libs/scala-2.10/*,file:/usr/local/src/dataconnector-dw/spark-1.6.0/Server/connectivity/thirdparty/httpmime.jar,file:/usr/local/src/dataconnector-stocator-1.6/spark-1.6.0/libs/stocator-1.0.7.jar,file:/usr/local/src/analytic-libs/spark-1.6.0/ia-stan-classifiers-201611220127.jar,file:/usr/local/src/dataconnector-dw/spark-1.6.0/Server/connectivity/thirdparty/jackson-mapper-asl-1.6.2.jar,file:/usr/local/src/spark160master/spark-1.6.0-bin-2.6.0/lib/joda-convert-1.6.jar,file:/usr/local/src/event-stream/spark-1.6.0/libs/messagehub.login-1.0.0.jar,file:/usr/local/src/spark160master/spark-1.6.0-bin-2.6.0/lib/spark-assembly-1.6.0-hadoop2.6.0.jar,file:/usr/local/src/analytic-libs/spark-1.6.0/wink-json4j-provider-1.4.jar,file:/usr/local/src/dataconnector-dw/spark-1.6.0/Server/connectivity/thirdparty/parquet-hadoop-bundle-1.8.1.jar,file:/usr/local/src/analytic-libs/spark-1.6.0/BigInsightsWesternNERStandard.jar,file:/usr/local/src/dataconnector-stocator-1.6/spark-1.6.0/libs/log4j-1.2.17.jar,file:/usr/local/src/dataconnector-stocator-1.6/spark-1.6.0/libs/httpclient-4.5.2.jar,file:/usr/local/src/dataconnector-dw/spark-1.6.0/Server/connectivity/thirdparty/aws/jackson-annotations-2.4.4.jar,file:/usr/local/src/dataconnector-stocator-1.6/spark-1.6.0/libs/commons-codec-1.9.jar,file:/usr/local/src/dataconnector-db2/db2jcc4-10.5.0.6.jar,file:/usr/local/src/dataconnector-dw/spark-1.6.0/Server/connectivity/thirdparty/aws/jackson-databind-2.4.4.jar,file:/usr/local/src/analytic-libs/spark-1.6.0/dataworksml-scala-1.0.0.0-201610252355.jar,file:/usr/local/src/dataconnector-dw/spark-1.6.0/ASBServer/apps/lib/iis/*/*,file:/usr/local/src/dataconnector-dw/spark-1.6.0/Server/connectivity/branded_jdbc/lib/*,file:/usr/local/src/dataconnector-stocator-1.6/spark-1.6.0/libs/commons-lang-2.6.jar,file:/usr/local/src/analytic-libs/spark-1.6.0/htmlparser-2.1.jar,file:/usr/local/src/analytic-libs/spark-1.6.0/spark-avro_2.10-2.0.1.jar,file:/usr/local/src/analytic-libs/spark-1.6.0/system-t-runtime-4.6-biginsights.jar,file:/gpfs/global_fs01/sym_shared/YPProdSpark/user/sb8e-31a08100070616-ac6107fb81b2/notebook/spark-config/spark160master/,file:/usr/local/src/dataconnector-dw/spark-1.6.0/Server/connectivity/jdbc/lib/*,file:/usr/local/src/spark160master/spark-1.6.0-bin-2.6.0/lib/kernel-api_2.10-0.1.5-SNAPSHOT.jar,file:/usr/local/src/dataconnector-dw/spark-1.6.0/Server/connectivity/jars/scapi-fileformat.jar,file:/usr/local/src/spark160master/spark-1.6.0-bin-2.6.0/lib/play-datacommons_2.10-2.3.6.jar,file:/usr/local/src/dataconnector-dw/spark-1.6.0/Server/connectivity/thirdparty/commons-logging-1.1.1.jar,file:/usr/local/src/spark160master/spark-1.6.0-bin-2.6.0/lib/cglib-2.2.1-v20090111.jar,file:/usr/local/src/dataconnector-dw/spark-1.6.0/Server/connectivity/thirdparty/hadoop-core-1.1.0.jar,file:/usr/local/src/spark160master/spark-1.6.0-bin-2.6.0/lib/avro-1.7.7.jar,file:/usr/local/src/analytic-libs/spark-1.6.0/ngwb.oms_client-11.5.1.0.665.jar,file:/usr/local/src/analytic-libs/spark-1.6.0/spss-scala-modelviewer-3.2.0.jar,file:/usr/local/src/spark160master/spark-1.6.0-bin-2.6.0/lib/datanucleus-api-jdo-3.2.6.jar,file:/usr/local/src/spark160master/spark-1.6.0-bin-2.6.0/ego/spark-ego_2.10-1.6.0.jar,file:/usr/local/src/dataconnector-stocator-1.6/spark-1.6.0/libs/joss-0.9.14.jar,file:/usr/local/src/dataconnector-dw/spark-1.6.0/Server/connectivity/thirdparty/hadoop-auth-2.7.0.jar,file:/usr/local/src/spark160master/spark-1.6.0-bin-2.6.0/lib/commons-net-3.1.jar,file:/usr/local/src/dataconnector-s3/spark-1.6.0/libs/aws-java-sdk-1.7.4.jar,file:/usr/local/src/spark160master/spark-1.6.0-bin-2.6.0/lib/spring-core-4.1.1.RELEASE.jar,file:/usr/local/src/dataconnector-dw/spark-1.6.0/Server/connectivity/thirdparty/jackson-core-asl-1.6.2.jar,file:/usr/local/src/dataconnector-dw/spark-1.6.0/Server/connectivity/thirdparty/slf4j-simple-1.6.1.jar,file:/usr/local/src/analytic-libs/spark-1.6.0/antlr4-runtime-4.5.jar,file:/usr/local/src/analytic-libs/spark-1.6.0/ngp-catalog-0.1.19-201609191657.jar,file:/usr/local/src/analytic-libs/spark-1.6.0/mysql-connector-java-6.0.2.jar,file:/usr/local/src/analytic-libs/spark-1.6.0/ingestion-scala-0.1.551-201612042232.jar,file:/usr/local/src/dataconnector-dw/spark-1.6.0/Server/connectivity/thirdparty/httpclient-4.3.3.jar,file:/gpfs/global_fs01/sym_shared/YPProdSpark/user/sb8e-31a08100070616-ac6107fb81b2/data/libs/*,file:/usr/local/src/dataconnector-dw/spark-1.6.0/Server/connectivity/thirdparty/slf4j-api-1.6.1.jar,file:/usr/local/src/spark160master/spark-1.6.0-bin-2.6.0/ego/spark-launcher_2.10-1.6.0.jar,file:/usr/local/src/dataconnector-stocator-1.6/spark-1.6.0/libs/hamcrest-core-1.1.jar,file:/usr/local/src/analytic-libs/spark-1.6.0/univocity-parsers-1.5.1.jar,file:/usr/local/src/dataconnector-dw/spark-1.6.0/Server/connectivity/jars/FileConnector.jar,file:/usr/local/src/spark160master/spark-1.6.0-bin-2.6.0/lib/communication_2.10-0.1.5-SNAPSHOT.jar,file:/usr/local/src/dataconnector-dw/spark-1.6.0/Server/connectivity/jars/scapi-util.jar,file:/usr/local/src/spark160master/spark-1.6.0-bin-2.6.0/lib/httpcore-4.2.4.jar,file:/usr/local/src/spark160master/spark-1.6.0-bin-2.6.0/lib/commons-logging-1.1.3.jar,file:/usr/local/src/dataconnector-dw/spark-1.6.0/Server/connectivity/thirdparty/xmlbeans-2.6.0.jar,file:/usr/local/src/dataconnector-stocator-1.6/spark-1.6.0/libs/junit-4.10.jar,file:/usr/local/src/analytic-libs/spark-1.6.0/transformation-scala-0.1.476-201610112143.jar,file:/usr/local/src/analytic-libs/spark-1.6.0/project-notebook-integration-assembly-0.10.1.jar,file:/usr/local/src/dataconnector-dw/spark-1.6.0/Server/connectivity/thirdparty/aspera.tokengen.3.1.0.65813.jar,file:/usr/local/src/dataconnector-dw/spark-1.6.0/Server/connectivity/thirdparty/poi-ooxml-3.14.jar,file:/usr/local/src/dataconnector-dw/spark-1.6.0/Server/connectivity/thirdparty/commons-codec-1.6.jar,file:/usr/local/src/spark160master/spark-1.6.0-bin-2.6.0/lib/guice-3.0.jar,file:/usr/local/src/dataconnector-dw/spark-1.6.0/Server/connectivity/jars/scapi-dw.jar,file:/usr/local/src/analytic-libs/spark-1.6.0/icu4j-53.1.jar,file:/usr/local/src/dataconnector-dw/spark-1.6.0/Server/connectivity/thirdparty/log4j-1.2.17.jar,file:/usr/local/src/spark160master/spark-1.6.0-bin-2.6.0/lib/aopalliance-1.0.jar,file:/usr/local/src/analytic-libs/spark-1.6.0/dataquality-201611220127.jar,file:/usr/local/src/dataconnector-dw/spark-1.6.0/Server/connectivity/thirdparty/guava-14.0.1.jar,file:/usr/local/src/spark160master/spark-1.6.0-bin-2.6.0/lib/protocol_2.10-0.1.5-SNAPSHOT.jar,file:/usr/local/src/analytic-libs/spark-1.6.0/commons-csv-1.1.jar,file:/usr/local/src/spark160master/spark-1.6.0-bin-2.6.0/lib/play-functional_2.10-2.3.6.jar,file:/usr/local/src/dataconnector-stocator-1.6/spark-1.6.0/libs/jcl-over-slf4j-1.7.2.jar,file:/usr/local/src/dataconnector-stocator-1.6/spark-1.6.0/libs/jackson-mapper-asl-1.9.7.jar,file:/usr/local/src/analytic-libs/spark-1.6.0/pipeline-scala-0.1.416-201611100637.jar,file:/usr/local/src/spark160master/spark-1.6.0-bin-2.6.0/lib/joda-time-2.3.jar,file:/usr/local/src/analytic-libs/spark-1.6.0/systemml-0.11.0-incubating.jar,file:/usr/local/src/spark160master/spark-1.6.0-bin-2.6.0/lib/datanucleus-rdbms-3.2.9.jar,file:/usr/local/src/spark160master/spark-1.6.0-bin-2.6.0/lib/scala-stm_2.10-0.7.jar,file:/usr/local/src/dataconnector-stocator-1.6/spark-1.6.0/libs/jackson-core-asl-1.9.7.jar,file:/usr/local/src/dataconnector-stocator-1.6/spark-1.6.0/libs/slf4j-log4j12-1.7.2.jar,file:/usr/local/src/spark160master/spark-1.6.0-bin-2.6.0/lib/asm-3.2.jar,file:/usr/local/src/analytic-libs/spark-1.6.0/stan_api-201611220127.jar,file:/usr/local/src/spark160master/spark-1.6.0-bin-2.6.0/lib/jackson-core-asl-1.9.13.jar,file:/usr/local/src/dataconnector-dw/spark-1.6.0/Server/connectivity/thirdparty/aws/aws-java-sdk-1.7.3.jar,file:/usr/local/src/event-stream/spark-1.6.0/libs/event-stream-1.6.0.2.jar,file:/usr/local/src/dataconnector-dw/spark-1.6.0/libs/SparkRelationProvider1.6-12.0.0.1-20161215-0026.jar,file:/usr/local/src/analytic-libs/spark-1.6.0/simple-regex-4.6.jar,file:/usr/local/src/dataconnector-dw/spark-1.6.0/Server/connectivity/thirdparty/avro-1.8.0.jar,file:/usr/local/src/dataconnector-stocator-1.6/spark-1.6.0/libs/slf4j-api-1.7.2.jar,file:/usr/local/src/dataconnector-dw/spark-1.6.0/Server/connectivity/thirdparty/parquet-avro-1.8.1.jar,file:/usr/local/src/analytic-libs/spark-1.6.0/util-scala-0.1.37-201611302306.jar,file:/usr/local/src/spark160master/spark-1.6.0-bin-2.6.0/ego/gson-2.2.4.jar,file:/usr/local/src/dataconnector-dw/spark-1.6.0/Server/connectivity/thirdparty/aws/jackson-core-2.4.4.jar,file:/usr/local/src/spark160master/spark-1.6.0-bin-2.6.0/ego/Java-WebSocket-1.3.0.jar,file:/usr/local/src/dataconnector-cloudant/spark-cloudant-1.6.3-125.jar,file:/usr/local/src/spark160master/spark-1.6.0-bin-2.6.0/lib/javax.inject-1.jar,file:/usr/local/src/dataconnector-dw/spark-1.6.0/Server/connectivity/thirdparty/commons-configuration-1.7.jar,file:/usr/local/src/dataconnector-dw/spark-1.6.0/Server/connectivity/thirdparty/poi-ooxml-schemas-3.14.jar,file:/usr/local/src/dataconnector-dw/spark-1.6.0/Server/connectivity/config/,file:/usr/local/src/spark160master/spark-1.6.0-bin-2.6.0/ego/spark-network-shuffle_2.10-1.6.0.jar,file:/usr/local/src/analytic-libs/spark-1.6.0/spss-spark-assembly-4.1.0.0-201611082150.jar,file:/usr/local/src/analytic-libs/spark-1.6.0/tika-app-1.10.jar,file:/usr/local/src/analytic-libs/spark-1.6.0/tika-parsers-1.10.jar,file:/usr/local/src/spark160master/spark-1.6.0-bin-2.6.0/lib/jeromq-0.3.4.jar,file:/usr/local/src/analytic-libs/spark-1.6.0/tika-core-1.10.jar,file:/usr/local/src/spark160master/spark-1.6.0-bin-2.6.0/lib/guava-14.0.1.jar,file:/usr/local/src/dataconnector-dw/spark-1.6.0/Server/connectivity/thirdparty/commons-codec-1.10.jar,file:/usr/local/src/spark160master/spark-1.6.0-bin-2.6.0/ego/guava-14.0.1.jar,file:/usr/local/src/dataconnector-dw/spark-1.6.0/Server/connectivity/thirdparty/gson.jar,file:/usr/local/src/spark160master/spark-1.6.0-bin-2.6.0/lib/ivy-2.4.0.jar,file:/usr/local/src/dataconnector-dw/spark-1.6.0/Server/connectivity/thirdparty/commons-lang-2.6.jar,file:/usr/local/src/analytic-libs/spark-1.6.0/ngwb.oms_api-11.5.1.0.665.jar,file:/usr/local/src/dataconnector-stocator-1.6/spark-1.6.0/libs/json-simple-1.1.1.jar,file:/usr/local/src/analytic-libs/spark-1.6.0/htmllexer-2.1.jar,file:/usr/local/src/spark160master/spark-1.6.0-bin-2.6.0/lib/play-json_2.10-2.3.6.jar,file:/usr/local/src/dataconnector-s3/spark-1.6.0/libs/hadoop-aws-2.6.0.jar,file:/usr/local/src/dataconnector-stocator-1.6/spark-1.6.0/libs/commons-io-2.3.jar,file:/usr/local/src/dataconnector-dw/spark-1.6.0/Server/connectivity/thirdparty/httpcore-4.3.2.jar,file:/usr/local/src/spark160master/spark-1.6.0-bin-2.6.0/lib/jopt-simple-4.6.jar,file:/usr/local/src/dataconnector-dw/spark-1.6.0/Server/connectivity/connectors/*/*,file:/usr/local/src/dataconnector-dw/spark-1.6.0/Server/connectivity/FaspStreamSDK/lib/*,file:/usr/local/src/dataconnector-dw/spark-1.6.0/Server/connectivity/jars/JISPlugins/*,file:/gpfs/global_fs01/sym_shared/YPProdSpark/user/sb8e-31a08100070616-ac6107fb81b2/data/libs/,file:/usr/local/src/analytic-libs/spark-1.6.0/ngwb.oms_common-11.5.1.0.665.jar,file:/usr/local/src/event-stream/spark-1.6.0/libs/kafka_2.10-0.10.0.1.jar,file:/usr/local/src/dataconnector-dw/spark-1.6.0/Server/connectivity/thirdparty/hadoop-common-2.7.0.jar,file:/usr/local/src/spark160master/spark-1.6.0-bin-2.6.0/lib/macros_2.10-0.1.5-SNAPSHOT.jar,file:/usr/local/src/dataconnector-dw/spark-1.6.0/Server/connectivity/thirdparty/iis_util.jar,file:/usr/local/src/analytic-libs/spark-1.6.0/spark-kernel-brunel-all-1.1.jar,file:/usr/local/src/spark160master/spark-1.6.0-bin-2.6.0/lib/quasiquotes_2.10-2.0.1.jar,file:/usr/local/src/dataconnector-dw/spark-1.6.0/Server/connectivity/thirdparty/poi-3.14.jar,file:/usr/local/src/spark160master/spark-1.6.0-bin-2.6.0/lib/play-iteratees_2.10-2.3.6.jar,file:/usr/local/src/spark160master/spark-1.6.0-bin-2.6.0/lib/kernel_2.10-0.1.5-SNAPSHOT.jar,file:/usr/local/src/analytic-libs/spark-1.6.0/spark-csv_2.10-1.5.0.jar,file:/usr/local/src/spark160master/spark-1.6.0-bin-2.6.0/lib/jackson-mapper-asl-1.9.13.jar,file:/usr/local/src/spark160master/spark-1.6.0-bin-2.6.0/lib/datanucleus-core-3.2.10.jar,file:/usr/local/src/dataconnector-stocator-1.6/spark-1.6.0/libs/httpcore-4.4.5.jar,file:/usr/local/src/dataconnector-dw/spark-1.6.0/Server/connectivity/thirdparty/commons-collections-3.2.2.jar,file:/usr/local/src/dataconnector-dw/spark-1.6.0/Server/connectivity/jars/scapi.jar,file:/usr/local/src/dataconnector-dw/spark-1.6.0/Server/connectivity/thirdparty/faspstream.jar,file:/gpfs/fs01/user/sb8e-31a08100070616-ac6107fb81b2/notebook/downloads/spark-cloudant-2.0.0-s_2.11.jar)\n",
      "(spark.sql.tungsten.enabled,false)\n",
      "(spark.eventLog.dir,/gpfs/fs01/user/sb8e-31a08100070616-ac6107fb81b2/events)\n",
      "(spark.repl.class.uri,http://10.143.133.172:39302)\n",
      "(cloudant.username,83a4d5b3-b0cd-4206-a1dd-b8ede559ef88-bluemix)\n",
      "(spark.master,local[*])\n",
      "(spark.externalBlockStore.folderName,spark-d224089c-ccbd-4521-a2ff-5535cfb2ea7f)\n",
      "(spark.worker.ui.retainedExecutors,0)\n",
      "(spark.shuffle.service.port,7340)\n",
      "(spark.ui.retainedJobs,0)\n",
      "(spark.shuffle.service.enabled,true)\n",
      "(spark.driver.allowMultipleContexts,true)\n",
      "(spark.executor.extraJavaOptions,-Djava.security.egd=file:/dev/./urandom)\n",
      "(spark.executor.id,driver)\n",
      "(spark.port.maxRetries,512)\n",
      "(spark.logConf,true)\n",
      "(spark.history.fs.logDirectory,/gpfs/fs01/user/sb8e-31a08100070616-ac6107fb81b2/events)\n",
      "(spark.app.id,local-1482440451225)\n",
      "(spark.driver.host,10.143.133.172)\n",
      "(spark.app.name,IBM Spark Kernel)\n",
      "(spark.ui.enabled,false)\n",
      "(spark.task.maxFailures,10)\n",
      "(spark.sql.unsafe.enabled,false)\n",
      "(spark.ui.retainedStages,0)\n",
      "(spark.driver.maxResultSize,1210M)\n",
      "(spark.driver.port,46339)\n"
     ]
    }
   ],
   "source": [
    "import org.apache.spark.rdd.RDD\n",
    "import org.apache.spark.sql.{DataFrame, SQLContext}\n",
    "import org.apache.spark.storage.StorageLevel\n",
    "import org.apache.spark.streaming.{Time, Seconds, StreamingContext}\n",
    "import org.apache.spark.{SparkConf, SparkContext}\n",
    "\n",
    "val conf = sc.getConf\n",
    "conf.set(\"cloudant.host\",\"83a4d5b3-b0cd-4206-a1dd-b8ede559ef88-bluemix.cloudant.com\")\n",
    "conf.set(\"cloudant.username\", \"83a4d5b3-b0cd-4206-a1dd-b8ede559ef88-bluemix\")\n",
    "conf.set(\"cloudant.password\",\"004f4adfb5a46442c3a5e37f6d62eec477c9f3d96781d45f612bfba6afd4b013\")\n",
    "\n",
    "conf.setJars(ClassLoader.getSystemClassLoader.asInstanceOf[java.net.URLClassLoader].getURLs.map(_.toString).toSet.toSeq ++ kernel.interpreter.classLoader.asInstanceOf[java.net.URLClassLoader].getURLs.map(_.toString).toSeq)\n",
    "conf.set(\"spark.driver.allowMultipleContexts\", \"true\")\n",
    "conf.set(\"spark.master\",\"local[*]\")\n",
    "val scCloudant = new SparkContext(conf)\n",
    "scCloudant.getConf.getAll.foreach(println)\n"
   ]
  },
  {
   "cell_type": "code",
   "execution_count": 3,
   "metadata": {
    "collapsed": true
   },
   "outputs": [],
   "source": [
    "def readFromDatabase(sqlContext: SQLContext, databaseName: String) = {\n",
    "    val df = sqlContext.read.format(\"com.cloudant.spark\").load(databaseName)\n",
    "    df\n",
    "}"
   ]
  },
  {
   "cell_type": "code",
   "execution_count": 4,
   "metadata": {
    "collapsed": false
   },
   "outputs": [
    {
     "name": "stdout",
     "output_type": "stream",
     "text": [
      "Use connectorVersion=1.6.3, dbName=meetup_group, indexName=null, viewName=null,jsonstore.rdd.partitions=5, + jsonstore.rdd.maxInPartition=-1,jsonstore.rdd.minInPartition=10, jsonstore.rdd.requestTimeout=900000,bulkSize=20, schemaSampleSize=1\n",
      "+--------------------+--------------------+------------+-------------+--------+---------+---------+--------------------+-----------+--------------------+--------------------+\n",
      "|                 _id|                _rev|  group_city|group_country|group_id|group_lat|group_lon|          group_name|group_state|        group_topics|       group_urlname|\n",
      "+--------------------+--------------------+------------+-------------+--------+---------+---------+--------------------+-----------+--------------------+--------------------+\n",
      "|270248487114c389b...|1-80c343f3d28e074...| San Antonio|           us|  931700|     29.5|    -98.4|The San Antonio N...|         TX|[[Dogs,dogs], [Do...|  sanaturehounds-com|\n",
      "|2dfaa27c519063906...|1-3f2e6c01623b457...|      Dallas|           us| 1561092|    32.82|   -96.75|20 and 30 somethi...|         TX|[[20's & 30's Soc...|20-and-30-somethi...|\n",
      "|2dfaa27c519063906...|1-80c343f3d28e074...| San Antonio|           us|  931700|     29.5|    -98.4|The San Antonio N...|         TX|[[Dogs,dogs], [Do...|  sanaturehounds-com|\n",
      "|46b17164741274d3f...|1-f56e792a1938337...|Flower Mound|           us| 3791362|    33.03|   -97.07|      Dance With Jim|         TX|[[Singles,singles...|      Dance-With-Jim|\n",
      "|46b17164741274d3f...|1-45010d6fde3b8b7...|     Houston|           us| 1693770|    29.75|   -95.49|Houston Single Zo...|         TX|[[Singles,singles...|HoustonSingleZoomers|\n",
      "+--------------------+--------------------+------------+-------------+--------+---------+---------+--------------------+-----------+--------------------+--------------------+\n",
      "only showing top 5 rows\n",
      "\n",
      "+--------------------+--------------------+----------+-------------+--------+---------+---------+--------------------+-----------+--------------------+--------------------+\n",
      "|                 _id|                _rev|group_city|group_country|group_id|group_lat|group_lon|          group_name|group_state|        group_topics|       group_urlname|\n",
      "+--------------------+--------------------+----------+-------------+--------+---------+---------+--------------------+-----------+--------------------+--------------------+\n",
      "|46b17164741274d3f...|1-066e21f388142df...|    Austin|           us| 1724603|    30.24|   -97.76|South Austin Soci...|         TX|[[Social,social],...|            SAtennis|\n",
      "|d0c6a450539e08941...|1-e58516b5ba2f2f0...|    Austin|           us|19833657|    30.35|   -97.73|Dragon's Lair Eve...|         TX|[[Sci-Fi/Fantasy,...|Dragons-Lair-Even...|\n",
      "|d0c6a450539e08941...|1-a7f8a7c113cca31...|    Austin|           us| 1822044|    30.27|   -97.71|Sacred Sexuality ...|         TX|[[Spiritual Growt...|Sacred-Sexuality-...|\n",
      "|d46aff771d78eb67e...|1-e58516b5ba2f2f0...|    Austin|           us|19833657|    30.35|   -97.73|Dragon's Lair Eve...|         TX|[[Sci-Fi/Fantasy,...|Dragons-Lair-Even...|\n",
      "|fb87e15ebec5b2cdb...|1-bbb36c4f46dff6b...|    Austin|           us|20276448|    30.22|   -97.75|  Xero Hour - Austin|         TX|[[Accounting,acco...|    Xero-hour-Austin|\n",
      "+--------------------+--------------------+----------+-------------+--------+---------+---------+--------------------+-----------+--------------------+--------------------+\n",
      "\n"
     ]
    }
   ],
   "source": [
    "val sqlContext = new SQLContext(scCloudant)\n",
    "import sqlContext.implicits._\n",
    "val df = readFromDatabase(sqlContext, \"meetup_group\")\n",
    "df.show(5)\n",
    "df.filter(df(\"group_city\")===\"Austin\").show(5)\n"
   ]
  },
  {
   "cell_type": "code",
   "execution_count": null,
   "metadata": {
    "collapsed": true
   },
   "outputs": [],
   "source": []
  }
 ],
 "metadata": {
  "kernelspec": {
   "display_name": "Scala 2.10 with Spark 1.6",
   "language": "scala",
   "name": "scala"
  },
  "language_info": {
   "name": "scala"
  }
 },
 "nbformat": 4,
 "nbformat_minor": 0
}